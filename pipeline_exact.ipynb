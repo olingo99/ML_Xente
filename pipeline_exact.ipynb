{
 "cells": [
  {
   "cell_type": "code",
   "execution_count": 65,
   "metadata": {},
   "outputs": [],
   "source": [
    "import matplotlib.pyplot as plt\n",
    "import numpy as np\n",
    "import pandas as pd\n",
    "# import seaborn as sns\n",
    "from sklearn.decomposition import PCA\n",
    "from sklearn.feature_selection import mutual_info_regression\n",
    "from sklearn.model_selection import cross_val_score\n",
    "from sklearn.ensemble import RandomForestClassifier\n",
    "from sklearn.tree import DecisionTreeClassifier\n",
    "from sklearn.neural_network import MLPClassifier\n",
    "from sklearn.preprocessing import OneHotEncoder\n",
    "from xgboost import XGBRegressor\n",
    "from sklearn.pipeline import Pipeline as skPipeline\n",
    "from imblearn.pipeline import Pipeline as imbPipeline\n",
    "from sklearn.compose import ColumnTransformer\n",
    "from imblearn.over_sampling import SMOTE, SMOTENC\n",
    "from CustomTransformers import StringCleanTransformer, DayTimeTransformer, DropperTransformer, SignTransformer, OHTransformer, FloatTransformer, biningTransformer, weekdayTransformer\n",
    "from sklearn.model_selection import train_test_split\n",
    "\n",
    "from xgboost import XGBClassifier\n",
    "\n",
    "from sklearn.model_selection import StratifiedKFold"
   ]
  },
  {
   "cell_type": "code",
   "execution_count": 66,
   "metadata": {},
   "outputs": [],
   "source": [
    "train = pd.read_csv(\"data/training.csv\")\n",
    "test = pd.read_csv(\"data/test.csv\")"
   ]
  },
  {
   "cell_type": "code",
   "execution_count": 67,
   "metadata": {},
   "outputs": [],
   "source": [
    "train = train.sample(frac=1).reset_index(drop=True)\n",
    "train_Y = train.FraudResult\n",
    "train.drop(['FraudResult'], axis=1, inplace=True)\n",
    "\n",
    "\n",
    "StringToClean = [\"TransactionId\", \"BatchId\",\"AccountId\",\"SubscriptionId\",\"CustomerId\", \"ProviderId\", \"ProductId\", \"ChannelId\", \"ProductCategory\"]\n",
    "\n",
    "drop_cols = [\"CurrencyCode\"]\n",
    "hot_cols = [\"ProductCategory\"]\n",
    "bin_cols = [\"TransactionStartTime\"]\n",
    "smt  = SMOTE()"
   ]
  },
  {
   "cell_type": "code",
   "execution_count": 68,
   "metadata": {},
   "outputs": [
    {
     "name": "stdout",
     "output_type": "stream",
     "text": [
      "['BatchId' 'AccountId' 'SubscriptionId' 'CustomerId' 'CountryCode'\n",
      " 'ProviderId' 'ProductId' 'ChannelId' 'Amount' 'Value'\n",
      " 'TransactionStartTime' 'PricingStrategy' 'TransactionStartDay' 'Sign'\n",
      " 'ProductCategory0' 'ProductCategory1' 'ProductCategory2'\n",
      " 'ProductCategory3' 'ProductCategory4' 'ProductCategory5'\n",
      " 'ProductCategory6' 'ProductCategory7' 'ProductCategory8']\n",
      "['BatchId' 'AccountId' 'SubscriptionId' 'CustomerId' 'CountryCode'\n",
      " 'ProviderId' 'ProductId' 'ChannelId' 'Amount' 'Value'\n",
      " 'TransactionStartTime' 'PricingStrategy' 'TransactionStartDay' 'Sign'\n",
      " 'ProductCategory0' 'ProductCategory1' 'ProductCategory2'\n",
      " 'ProductCategory3' 'ProductCategory4' 'ProductCategory5'\n",
      " 'ProductCategory6' 'ProductCategory7' 'ProductCategory8']\n",
      "           TransactionId  FraudResult\n",
      "0    TransactionId_50600            0\n",
      "1    TransactionId_95109            0\n",
      "2    TransactionId_47357            0\n",
      "3    TransactionId_28185            0\n",
      "4    TransactionId_22140            0\n",
      "5   TransactionId_134338            0\n",
      "6   TransactionId_109096            0\n",
      "7    TransactionId_14249            0\n",
      "8    TransactionId_69896            0\n",
      "9    TransactionId_91468            0\n",
      "10   TransactionId_18862            0\n",
      "11   TransactionId_29342            0\n",
      "12  TransactionId_116873            0\n",
      "13   TransactionId_81197            0\n",
      "14   TransactionId_83120            0\n",
      "15   TransactionId_40882            0\n",
      "16   TransactionId_89297            0\n",
      "17  TransactionId_112716            0\n",
      "18   TransactionId_61794            0\n",
      "19  TransactionId_124957            0\n"
     ]
    }
   ],
   "source": [
    "preprocessor = imbPipeline(steps = [\n",
    "    (\"cleanStrings\", StringCleanTransformer()),\n",
    "    (\"day_time_separator\", DayTimeTransformer()),\n",
    "    (\"amout to sign\", SignTransformer()),\n",
    "    (\"Dropper\", DropperTransformer(drop_cols)),\n",
    "    (\"One hot encoding\", OHTransformer(hot_cols)),\n",
    "    # (\"binning\", biningTransformer(bin_cols)),\n",
    "    (\"weekday\", weekdayTransformer()),\n",
    "    (\"float\", FloatTransformer()),\n",
    "    (\"smote\", smt),\n",
    "    (\"model\", XGBClassifier(n_estimators = 500))\n",
    "])\n",
    "\n",
    "preprocessor.fit(train, train_Y)\n",
    "test_res = preprocessor.predict(test)\n",
    "\n",
    "output = pd.DataFrame()\n",
    "output[\"TransactionId\"] = test[\"TransactionId\"]\n",
    "output[\"FraudResult\"] = test_res\n",
    "print(output.head(20))\n",
    "\n",
    "#save the result to csv file\n",
    "output.to_csv(\"submission.csv\", index=False)"
   ]
  }
 ],
 "metadata": {
  "kernelspec": {
   "display_name": "Python 3",
   "language": "python",
   "name": "python3"
  },
  "language_info": {
   "codemirror_mode": {
    "name": "ipython",
    "version": 3
   },
   "file_extension": ".py",
   "mimetype": "text/x-python",
   "name": "python",
   "nbconvert_exporter": "python",
   "pygments_lexer": "ipython3",
   "version": "3.10.0"
  },
  "orig_nbformat": 4
 },
 "nbformat": 4,
 "nbformat_minor": 2
}
