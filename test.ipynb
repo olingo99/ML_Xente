{
 "cells": [
  {
   "cell_type": "code",
   "execution_count": 24,
   "metadata": {},
   "outputs": [],
   "source": [
    "import matplotlib.pyplot as plt\n",
    "import numpy as np\n",
    "import pandas as pd\n",
    "# import seaborn as sns\n",
    "from sklearn.decomposition import PCA\n",
    "from sklearn.feature_selection import mutual_info_regression\n",
    "from sklearn.model_selection import cross_val_score\n",
    "from sklearn.ensemble import RandomForestClassifier\n",
    "from sklearn.tree import DecisionTreeClassifier\n",
    "from sklearn.neural_network import MLPClassifier\n",
    "from sklearn.preprocessing import OneHotEncoder\n",
    "from xgboost import XGBRegressor\n",
    "from sklearn.pipeline import Pipeline as skPipeline\n",
    "from imblearn.pipeline import Pipeline as imbPipeline\n",
    "from sklearn.compose import ColumnTransformer\n",
    "from imblearn.over_sampling import SMOTE\n",
    "from CustomTransformers import StringCleanTransformer, DayTimeTransformer, DropperTransformer, SignTransformer, OHTransformer, FloatTransformer\n",
    "from sklearn.model_selection import train_test_split\n",
    "\n",
    "from xgboost import XGBClassifier\n",
    "\n",
    "from sklearn.model_selection import StratifiedKFold"
   ]
  },
  {
   "cell_type": "code",
   "execution_count": 25,
   "metadata": {},
   "outputs": [],
   "source": [
    "train = pd.read_csv(\"data/training.csv\")\n",
    "test = pd.read_csv(\"data/test.csv\")"
   ]
  },
  {
   "cell_type": "code",
   "execution_count": 26,
   "metadata": {},
   "outputs": [],
   "source": [
    "train = train.sample(frac=1).reset_index(drop=True)\n",
    "train_Y = train.FraudResult\n",
    "train.drop(['FraudResult'], axis=1, inplace=True)\n",
    "train_transaction_id = train.TransactionId\n",
    "train.drop(['TransactionId'], axis=1, inplace=True)\n",
    "\n",
    "test_transaction_id = test.TransactionId\n",
    "test.drop(['TransactionId'], axis=1, inplace=True)\n"
   ]
  },
  {
   "cell_type": "code",
   "execution_count": 27,
   "metadata": {},
   "outputs": [
    {
     "data": {
      "text/html": [
       "<div>\n",
       "<style scoped>\n",
       "    .dataframe tbody tr th:only-of-type {\n",
       "        vertical-align: middle;\n",
       "    }\n",
       "\n",
       "    .dataframe tbody tr th {\n",
       "        vertical-align: top;\n",
       "    }\n",
       "\n",
       "    .dataframe thead th {\n",
       "        text-align: right;\n",
       "    }\n",
       "</style>\n",
       "<table border=\"1\" class=\"dataframe\">\n",
       "  <thead>\n",
       "    <tr style=\"text-align: right;\">\n",
       "      <th></th>\n",
       "      <th>BatchId</th>\n",
       "      <th>AccountId</th>\n",
       "      <th>SubscriptionId</th>\n",
       "      <th>CustomerId</th>\n",
       "      <th>CurrencyCode</th>\n",
       "      <th>CountryCode</th>\n",
       "      <th>ProviderId</th>\n",
       "      <th>ProductId</th>\n",
       "      <th>ProductCategory</th>\n",
       "      <th>ChannelId</th>\n",
       "      <th>Amount</th>\n",
       "      <th>Value</th>\n",
       "      <th>TransactionStartTime</th>\n",
       "      <th>PricingStrategy</th>\n",
       "    </tr>\n",
       "  </thead>\n",
       "  <tbody>\n",
       "    <tr>\n",
       "      <th>0</th>\n",
       "      <td>BatchId_26638</td>\n",
       "      <td>AccountId_4841</td>\n",
       "      <td>SubscriptionId_3829</td>\n",
       "      <td>CustomerId_5238</td>\n",
       "      <td>UGX</td>\n",
       "      <td>256</td>\n",
       "      <td>ProviderId_4</td>\n",
       "      <td>ProductId_6</td>\n",
       "      <td>financial_services</td>\n",
       "      <td>ChannelId_2</td>\n",
       "      <td>-2000.0</td>\n",
       "      <td>2000</td>\n",
       "      <td>2018-12-18T06:52:20Z</td>\n",
       "      <td>2</td>\n",
       "    </tr>\n",
       "    <tr>\n",
       "      <th>1</th>\n",
       "      <td>BatchId_13824</td>\n",
       "      <td>AccountId_4841</td>\n",
       "      <td>SubscriptionId_3829</td>\n",
       "      <td>CustomerId_1709</td>\n",
       "      <td>UGX</td>\n",
       "      <td>256</td>\n",
       "      <td>ProviderId_4</td>\n",
       "      <td>ProductId_6</td>\n",
       "      <td>financial_services</td>\n",
       "      <td>ChannelId_2</td>\n",
       "      <td>-20.0</td>\n",
       "      <td>20</td>\n",
       "      <td>2019-01-14T08:19:46Z</td>\n",
       "      <td>2</td>\n",
       "    </tr>\n",
       "    <tr>\n",
       "      <th>2</th>\n",
       "      <td>BatchId_35126</td>\n",
       "      <td>AccountId_4133</td>\n",
       "      <td>SubscriptionId_2763</td>\n",
       "      <td>CustomerId_4585</td>\n",
       "      <td>UGX</td>\n",
       "      <td>256</td>\n",
       "      <td>ProviderId_6</td>\n",
       "      <td>ProductId_3</td>\n",
       "      <td>airtime</td>\n",
       "      <td>ChannelId_3</td>\n",
       "      <td>1000.0</td>\n",
       "      <td>1000</td>\n",
       "      <td>2018-11-23T15:46:26Z</td>\n",
       "      <td>2</td>\n",
       "    </tr>\n",
       "    <tr>\n",
       "      <th>3</th>\n",
       "      <td>BatchId_65500</td>\n",
       "      <td>AccountId_4704</td>\n",
       "      <td>SubscriptionId_2244</td>\n",
       "      <td>CustomerId_5172</td>\n",
       "      <td>UGX</td>\n",
       "      <td>256</td>\n",
       "      <td>ProviderId_5</td>\n",
       "      <td>ProductId_10</td>\n",
       "      <td>airtime</td>\n",
       "      <td>ChannelId_3</td>\n",
       "      <td>10000.0</td>\n",
       "      <td>10000</td>\n",
       "      <td>2018-11-30T12:22:58Z</td>\n",
       "      <td>4</td>\n",
       "    </tr>\n",
       "    <tr>\n",
       "      <th>4</th>\n",
       "      <td>BatchId_116190</td>\n",
       "      <td>AccountId_1555</td>\n",
       "      <td>SubscriptionId_1194</td>\n",
       "      <td>CustomerId_1929</td>\n",
       "      <td>UGX</td>\n",
       "      <td>256</td>\n",
       "      <td>ProviderId_5</td>\n",
       "      <td>ProductId_15</td>\n",
       "      <td>financial_services</td>\n",
       "      <td>ChannelId_3</td>\n",
       "      <td>50000.0</td>\n",
       "      <td>50000</td>\n",
       "      <td>2019-02-01T16:50:38Z</td>\n",
       "      <td>2</td>\n",
       "    </tr>\n",
       "  </tbody>\n",
       "</table>\n",
       "</div>"
      ],
      "text/plain": [
       "          BatchId       AccountId       SubscriptionId       CustomerId  \\\n",
       "0   BatchId_26638  AccountId_4841  SubscriptionId_3829  CustomerId_5238   \n",
       "1   BatchId_13824  AccountId_4841  SubscriptionId_3829  CustomerId_1709   \n",
       "2   BatchId_35126  AccountId_4133  SubscriptionId_2763  CustomerId_4585   \n",
       "3   BatchId_65500  AccountId_4704  SubscriptionId_2244  CustomerId_5172   \n",
       "4  BatchId_116190  AccountId_1555  SubscriptionId_1194  CustomerId_1929   \n",
       "\n",
       "  CurrencyCode  CountryCode    ProviderId     ProductId     ProductCategory  \\\n",
       "0          UGX          256  ProviderId_4   ProductId_6  financial_services   \n",
       "1          UGX          256  ProviderId_4   ProductId_6  financial_services   \n",
       "2          UGX          256  ProviderId_6   ProductId_3             airtime   \n",
       "3          UGX          256  ProviderId_5  ProductId_10             airtime   \n",
       "4          UGX          256  ProviderId_5  ProductId_15  financial_services   \n",
       "\n",
       "     ChannelId   Amount  Value  TransactionStartTime  PricingStrategy  \n",
       "0  ChannelId_2  -2000.0   2000  2018-12-18T06:52:20Z                2  \n",
       "1  ChannelId_2    -20.0     20  2019-01-14T08:19:46Z                2  \n",
       "2  ChannelId_3   1000.0   1000  2018-11-23T15:46:26Z                2  \n",
       "3  ChannelId_3  10000.0  10000  2018-11-30T12:22:58Z                4  \n",
       "4  ChannelId_3  50000.0  50000  2019-02-01T16:50:38Z                2  "
      ]
     },
     "execution_count": 27,
     "metadata": {},
     "output_type": "execute_result"
    }
   ],
   "source": [
    "def getDay(x):\n",
    "    return float(''.join(x.split(\"T\")[0].split(\"-\")))\n",
    "\n",
    "def getTime(x):\n",
    "    time = x.split(\"T\")[1].split(\":\")\n",
    "    time[-1] = time[-1][:-1]\n",
    "    return float(''.join(time))\n",
    "\n",
    "def encodeOH(X, cols):\n",
    "    OH_encoder = OneHotEncoder(handle_unknown='ignore', sparse=False)\n",
    "    for elem in cols:\n",
    "        OH_cols = pd.DataFrame(OH_encoder.fit_transform(X[elem].values.reshape(-1,1)))\n",
    "        OH_cols.rename(columns=lambda x: elem + str(x), inplace=True)\n",
    "        OH_cols.index = X.index\n",
    "        X = pd.concat([X, OH_cols], axis=1)\n",
    "        X.drop(elem, axis=1, inplace=True)\n",
    "\n",
    "        print(X.columns.values)\n",
    "    return X\n",
    "\n",
    "train.head()"
   ]
  },
  {
   "cell_type": "code",
   "execution_count": 28,
   "metadata": {},
   "outputs": [
    {
     "name": "stdout",
     "output_type": "stream",
     "text": [
      "['BatchId' 'AccountId' 'SubscriptionId' 'CustomerId' 'CurrencyCode'\n",
      " 'CountryCode' 'ProviderId' 'ProductId' 'ChannelId' 'Amount' 'Value'\n",
      " 'TransactionStartTime' 'PricingStrategy' 'ProductCategory0'\n",
      " 'ProductCategory1' 'ProductCategory2' 'ProductCategory3'\n",
      " 'ProductCategory4' 'ProductCategory5' 'ProductCategory6'\n",
      " 'ProductCategory7' 'ProductCategory8']\n"
     ]
    },
    {
     "name": "stderr",
     "output_type": "stream",
     "text": [
      "c:\\Python310\\lib\\site-packages\\sklearn\\preprocessing\\_encoders.py:868: FutureWarning: `sparse` was renamed to `sparse_output` in version 1.2 and will be removed in 1.4. `sparse_output` is ignored unless you leave `sparse` to its default value.\n",
      "  warnings.warn(\n"
     ]
    }
   ],
   "source": [
    "# hot_cols = [\"ProductCategory\", \"ProviderId\", \"ChannelId\", \"Sign\", \"PricingStrategy\"]\n",
    "hot_cols = [\"ProductCategory\"]\n",
    "\n",
    "x_train, x_valid, y_train, y_valid = train_test_split(train, train_Y, train_size=0.8, test_size=0.2,stratify=train_Y)\n",
    "\n",
    "smt = SMOTE()\n",
    "\n",
    "train = encodeOH(train, hot_cols)\n",
    "\n",
    "\n",
    "\n",
    "\n",
    "\n"
   ]
  },
  {
   "cell_type": "code",
   "execution_count": 29,
   "metadata": {},
   "outputs": [
    {
     "data": {
      "text/plain": [
       "array([0.87804878, 0.88888889, 0.95      , 0.88      , 0.91566265])"
      ]
     },
     "execution_count": 29,
     "metadata": {},
     "output_type": "execute_result"
    }
   ],
   "source": [
    "preprocessor = imbPipeline(steps = [\n",
    "    (\"shuffle\", StringCleanTransformer()),\n",
    "    (\"day_time_separator\", DayTimeTransformer()),\n",
    "    (\"amout to sign\", SignTransformer()),\n",
    "    # (\"One hot encoding\", OHTransformer(hot_cols)),\n",
    "    (\"Dropper\", DropperTransformer()),\n",
    "    (\"float\", FloatTransformer()),\n",
    "    (\"smote\", smt),\n",
    "    (\"model\", XGBClassifier())\n",
    "])\n",
    "\n",
    "\n",
    "# processed_train= preprocessor.fit(x_train, y_train)\n",
    "\n",
    "gen = StratifiedKFold(n_splits=5 )\n",
    "\n",
    "cross_val_score(preprocessor, train, train_Y, scoring='f1', cv =gen )"
   ]
  },
  {
   "cell_type": "code",
   "execution_count": 30,
   "metadata": {},
   "outputs": [
    {
     "name": "stderr",
     "output_type": "stream",
     "text": [
      "c:\\Python310\\lib\\site-packages\\sklearn\\preprocessing\\_encoders.py:868: FutureWarning: `sparse` was renamed to `sparse_output` in version 1.2 and will be removed in 1.4. `sparse_output` is ignored unless you leave `sparse` to its default value.\n",
      "  warnings.warn(\n"
     ]
    },
    {
     "name": "stdout",
     "output_type": "stream",
     "text": [
      "['BatchId' 'AccountId' 'SubscriptionId' 'CustomerId' 'CurrencyCode'\n",
      " 'CountryCode' 'ProviderId' 'ProductId' 'ChannelId' 'Amount' 'Value'\n",
      " 'TransactionStartTime' 'PricingStrategy' 'ProductCategory0'\n",
      " 'ProductCategory1' 'ProductCategory2' 'ProductCategory3'\n",
      " 'ProductCategory4' 'ProductCategory5' 'ProductCategory6'\n",
      " 'ProductCategory7' 'ProductCategory8']\n"
     ]
    }
   ],
   "source": [
    "preprocessor.fit(train, train_Y)\n",
    "test = encodeOH(test, hot_cols)\n",
    "res = preprocessor.predict(test)\n",
    "output = pd.DataFrame()\n",
    "output[\"TransactionId\"] = test_transaction_id\n",
    "output[\"FraudResult\"] = res\n",
    "\n",
    "output.to_csv(\"wtf.csv\", index=False)"
   ]
  },
  {
   "cell_type": "code",
   "execution_count": null,
   "metadata": {},
   "outputs": [],
   "source": [
    "#attention ajout channelid 4 pas dans training donc pas drop dans test plutot que rajouter"
   ]
  }
 ],
 "metadata": {
  "kernelspec": {
   "display_name": "Python 3",
   "language": "python",
   "name": "python3"
  },
  "language_info": {
   "codemirror_mode": {
    "name": "ipython",
    "version": 3
   },
   "file_extension": ".py",
   "mimetype": "text/x-python",
   "name": "python",
   "nbconvert_exporter": "python",
   "pygments_lexer": "ipython3",
   "version": "3.10.4"
  },
  "orig_nbformat": 4
 },
 "nbformat": 4,
 "nbformat_minor": 2
}
